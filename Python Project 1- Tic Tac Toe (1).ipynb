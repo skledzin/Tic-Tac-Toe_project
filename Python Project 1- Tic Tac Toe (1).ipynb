{
 "cells": [
  {
   "cell_type": "markdown",
   "metadata": {},
   "source": [
    "# Tic Tac Toe Project\n",
    "\n"
   ]
  },
  {
   "cell_type": "markdown",
   "metadata": {},
   "source": [
    "**1: Display function that shows a 3x3 board suitable to play tictactoe.**"
   ]
  },
  {
   "cell_type": "code",
   "execution_count": 66,
   "metadata": {},
   "outputs": [],
   "source": [
    "from IPython.display import clear_output\n",
    "\n",
    "\n",
    "\n",
    "\n",
    "def display_board(board):\n",
    "  \n",
    "    \n",
    "    print(f'{board[0]}  |  {board[1]} |  {board[2]}')\n",
    "    print('-------------')\n",
    "    print(f'{board[3]}  |  {board[4]} |  {board[5]}')\n",
    "    print('-------------')\n",
    "    print(f'{board[6]}  |  {board[7]} |  {board[8]}')\n",
    "\n",
    "     \n",
    "     \n",
    "\n",
    "     \n",
    "    \n"
   ]
  },
  {
   "cell_type": "markdown",
   "metadata": {},
   "source": [
    "Now we will test our display function by passing a list of symbols"
   ]
  },
  {
   "cell_type": "code",
   "execution_count": 67,
   "metadata": {},
   "outputs": [
    {
     "name": "stdout",
     "output_type": "stream",
     "text": [
      "#  |  X |  O\n",
      "-------------\n",
      "X  |  O |  X\n",
      "-------------\n",
      "O  |  X |  O\n"
     ]
    }
   ],
   "source": [
    "test_board = ['#','X','O','X','O','X','O','X','O','X']\n",
    "display_board(test_board)"
   ]
  },
  {
   "cell_type": "markdown",
   "metadata": {},
   "source": [
    "**2: Player input function that with an acceptable input range of 'X' or 'O'. We'll use *while* loops to continually ask until an input within the acceptable range is given.**"
   ]
  },
  {
   "cell_type": "code",
   "execution_count": 68,
   "metadata": {},
   "outputs": [],
   "source": [
    "def player_input(n):\n",
    "    choice='Wrong'\n",
    "    input_range=['X','O']\n",
    "    correct_input=False\n",
    "\n",
    "    while correct_input==False :\n",
    "        choice=input(f\"Player {n}, please choose your marker: (X or O)\")\n",
    "        if choice in input_range:\n",
    "            correct_input=True\n",
    "        else:\n",
    "            \n",
    "            print(\"Sorry, wrong character entered!\")\n",
    "            correct_input=False\n",
    "\n",
    "    return choice\n",
    "\n",
    "\n",
    "    "
   ]
  },
  {
   "cell_type": "markdown",
   "metadata": {},
   "source": [
    "Test the function to ensure that it returns the desired output"
   ]
  },
  {
   "cell_type": "code",
   "execution_count": 69,
   "metadata": {},
   "outputs": [
    {
     "name": "stdout",
     "output_type": "stream",
     "text": [
      "Player 1, please choose your marker: (X or O)X\n"
     ]
    },
    {
     "data": {
      "text/plain": [
       "'X'"
      ]
     },
     "execution_count": 69,
     "metadata": {},
     "output_type": "execute_result"
    }
   ],
   "source": [
    "player_input(1)"
   ]
  },
  {
   "cell_type": "markdown",
   "metadata": {},
   "source": [
    "**3: A Marker function that takes in the board list object, a marker ('X' or 'O'), and a desired position (number 0-8) and then assigns it to the board.**"
   ]
  },
  {
   "cell_type": "code",
   "execution_count": 70,
   "metadata": {},
   "outputs": [],
   "source": [
    "def place_marker(board, marker, position):\n",
    "    \n",
    "    board[position]=marker\n",
    "    \n",
    "    return board"
   ]
  },
  {
   "cell_type": "markdown",
   "metadata": {},
   "source": [
    "Testing the place marker function using test parameters and display the modified board to check if it puts a symbol at a given position"
   ]
  },
  {
   "cell_type": "code",
   "execution_count": 71,
   "metadata": {},
   "outputs": [
    {
     "name": "stdout",
     "output_type": "stream",
     "text": [
      "#  |  X |  O\n",
      "-------------\n",
      "X  |  O |  X\n",
      "-------------\n",
      "O  |  X |  $\n"
     ]
    }
   ],
   "source": [
    "place_marker(test_board,'$',8)\n",
    "display_board(test_board)"
   ]
  },
  {
   "cell_type": "markdown",
   "metadata": {},
   "source": [
    "**4: A function that will check after every step if a player has won the game or not**"
   ]
  },
  {
   "cell_type": "code",
   "execution_count": 72,
   "metadata": {},
   "outputs": [],
   "source": [
    "def win_check(board, mark):\n",
    "    \n",
    "    \n",
    "    \n",
    "         \n",
    "            \n",
    "            if board[0]==board[1]==board[2]==mark:\n",
    "                return True\n",
    "                    \n",
    "                    \n",
    "            elif board[0]==board[3]==board[6]==mark:\n",
    "                return True\n",
    "            \n",
    "            elif board[1]==board[4]==board[7]==mark:\n",
    "                return True\n",
    "            \n",
    "            elif board[2]==board[5]==board[8]==mark:\n",
    "                return True\n",
    "            \n",
    "            elif board[3]==board[4]==board[5]==mark:\n",
    "                return True\n",
    "            \n",
    "            elif board[6]==board[7]==board[8]==mark:\n",
    "                return True\n",
    "                    \n",
    "            elif board[0]==board[4]==board[8]==mark:\n",
    "                return True\n",
    "                    \n",
    "            \n",
    "            elif board[2]==board[4]==board[6]==mark:\n",
    "                return True\n",
    "            \n",
    "            \n",
    "            return False\n",
    "               \n",
    "                \n",
    "            "
   ]
  },
  {
   "cell_type": "markdown",
   "metadata": {},
   "source": [
    "No we will run the win_check function against our test_board - ideally it should return False"
   ]
  },
  {
   "cell_type": "code",
   "execution_count": 73,
   "metadata": {},
   "outputs": [
    {
     "data": {
      "text/plain": [
       "False"
      ]
     },
     "execution_count": 73,
     "metadata": {},
     "output_type": "execute_result"
    }
   ],
   "source": [
    "win_check(test_board,'X')"
   ]
  },
  {
   "cell_type": "markdown",
   "metadata": {},
   "source": [
    "**5: A function which will help the game decide which player gets the first turn. Random integer function is appropriate for this task**"
   ]
  },
  {
   "cell_type": "code",
   "execution_count": 74,
   "metadata": {},
   "outputs": [],
   "source": [
    "import random\n",
    "\n",
    "def choose_first():\n",
    "    player=random.randint(1, 2)\n",
    "    print(f'Player {player} goes first')\n",
    "    return player"
   ]
  },
  {
   "cell_type": "markdown",
   "metadata": {},
   "source": [
    "**6:A function that checks a position in the board returns to see if it is empty and available for marking**"
   ]
  },
  {
   "cell_type": "code",
   "execution_count": 75,
   "metadata": {},
   "outputs": [],
   "source": [
    "\n",
    "\n",
    "def space_check(board, position):\n",
    "    \n",
    "    \n",
    "    if board[position]==' ':\n",
    "        return True\n",
    "    else:\n",
    "        return False\n",
    "        "
   ]
  },
  {
   "cell_type": "markdown",
   "metadata": {},
   "source": [
    "**7: Function that checks if the board is full**"
   ]
  },
  {
   "cell_type": "code",
   "execution_count": 76,
   "metadata": {},
   "outputs": [],
   "source": [
    "def full_board_check(board):\n",
    "    \n",
    "    for n in range(0,8):\n",
    "        if board[n]==' ':\n",
    "            return False\n",
    "    return True\n",
    "    "
   ]
  },
  {
   "cell_type": "markdown",
   "metadata": {},
   "source": [
    "**8: A Function that asks for a player's next position (as a number 1-9). It will utilize space_check function to ensure that place is available for marking**"
   ]
  },
  {
   "cell_type": "code",
   "execution_count": 77,
   "metadata": {},
   "outputs": [],
   "source": [
    "def player_choice(board,n):\n",
    "    \n",
    "    choice='Wrong'\n",
    "    digit_range=range(0,9)\n",
    "    within_range=False\n",
    "    \n",
    "    while choice.isdigit==False or within_range==False:\n",
    "        choice=input(f\"Player {n}, please enter your position (0-8): \")\n",
    "        \n",
    "        if choice.isdigit()==False:\n",
    "            print(\"Please enter a number!\")\n",
    "                  \n",
    "        elif choice.isdigit()==True:\n",
    "            if int(choice) in digit_range:\n",
    "                if space_check(board,int(choice))==True:\n",
    "                    within_range=True\n",
    "                else:\n",
    "                    print(\"Position already filled\")\n",
    "                \n",
    "        else:\n",
    "            print(\"Sorry, you are out of range!\")\n",
    "            within_range=False\n",
    "        \n",
    "                  \n",
    "    return int(choice)"
   ]
  },
  {
   "cell_type": "markdown",
   "metadata": {},
   "source": [
    "**9: Replay function will ask the player if they want to play again.**"
   ]
  },
  {
   "cell_type": "code",
   "execution_count": 78,
   "metadata": {},
   "outputs": [],
   "source": [
    "def replay():\n",
    "    \n",
    "    choice=' '\n",
    "    c=' '\n",
    "   \n",
    "    \n",
    "    \n",
    "    \n",
    "        #clear_output()\n",
    "    while c not in ['Y','N']:    \n",
    "        choice=input(\"Would you like to play again?\")\n",
    "        c=choice[0].upper()\n",
    "        if c not in ['Y','N']:\n",
    "            print(\"Sorry, I didn't understand that one. Please enter 'Yes' and 'NO'\")\n",
    "        else:\n",
    "            if c=='Y':\n",
    "                return True\n",
    "        \n",
    "            elif c=='N':\n",
    "                return False"
   ]
  },
  {
   "cell_type": "markdown",
   "metadata": {
    "collapsed": true
   },
   "source": [
    "**10. Main game logic and code**"
   ]
  },
  {
   "cell_type": "code",
   "execution_count": 79,
   "metadata": {},
   "outputs": [
    {
     "name": "stdout",
     "output_type": "stream",
     "text": [
      "X  |  O |  X\n",
      "-------------\n",
      "O  |  O |  O\n",
      "-------------\n",
      "X  |  X |   \n",
      "Congratulations!!Player 1 has won\n",
      "Would you like to play again?No\n"
     ]
    }
   ],
   "source": [
    "\n",
    "\n",
    "\n",
    "game_on=True #initialize game_on variable\n",
    "\n",
    "\n",
    "\n",
    "\n",
    "\n",
    "print('Welcome to Tic Tac Toe!') #display welcome message\n",
    "\n",
    "\n",
    "while True:\n",
    "    board=[' ',' ',' ',' ',' ',' ',' ',' ',' ' ] #empty spaces for tic-tac-toe board\n",
    "    marker=' '\n",
    "    symbol=['X','O']\n",
    "    display_board(board)\n",
    "\n",
    "\n",
    "    \n",
    "    \n",
    "    \n",
    "    \n",
    "    \n",
    "    playing_choice=input(\"Ready to play the game? \") #Will check if the players are ready to begin\n",
    "    \n",
    "    \n",
    "    \n",
    "    if playing_choice[0].lower()=='y': #convert Yes to y and check the condition\n",
    "        game_on==True #if they choose yes, begin the game_on while loop\n",
    "    elif playing_choice[0].lower()=='n': #converts No to n\n",
    "        break #if they choose no, will break out of while loop\n",
    "    \n",
    "    chance=choose_first() #decide who gets to go first and store it in chance variable\n",
    "    \n",
    "    if chance==1: #if player one gets first chance\n",
    "        p1_marker=player_input(1) #player 1 marker\n",
    "        for n in range(0,2):\n",
    "            if symbol[n]!= p1_marker:\n",
    "                    p2_marker= symbol[n] #for loop to ensure that player 2 automatically gets next symbol\n",
    "    else:\n",
    "        p2_marker=player_input(2) #same logic as above if sttement\n",
    "        for n in range(0,2):\n",
    "            if symbol[n]!= p2_marker:\n",
    "                    p1_marker= symbol[n]\n",
    "    \n",
    "    \n",
    "    \n",
    "    while game_on==True: #actual game begins here\n",
    "            \n",
    "            \n",
    "            if chance==1: #when player 1 has the chance\n",
    "                clear_output() #clear all output and display the board over a clean slate\n",
    "                \n",
    "                display_board(board)\n",
    "                \n",
    "                \n",
    "    \n",
    "                #     choose poisition\n",
    "                position=player_choice(board,1)\n",
    "\n",
    "                #     update the position in gamelist\n",
    "\n",
    "                board=place_marker(board, p1_marker, position)\n",
    "                \n",
    "                if win_check(board,p1_marker)==True: #check if a player has won after every chance\n",
    "                    \n",
    "                    clear_output()\n",
    "                    display_board(board)\n",
    "                    print(\"Congratulations!!Player 1 has won\")\n",
    "                    game_on=False\n",
    "                    \n",
    "                else: #if there is no winning player and the board is full\n",
    "                    if full_board_check(board)==True:\n",
    "                        print(\"Game is a draw\")\n",
    "                        break #will break out of game_on while loop if board is full\n",
    "\n",
    "                    else:\n",
    "                        chance=2 #chance will turn over to first player\n",
    "                \n",
    "                \n",
    "            else: #when player 2 has the chance\n",
    "                \n",
    "                clear_output() #clear all output and display the board over a clean slate\n",
    "\n",
    "                display_board(board)\n",
    "                \n",
    "                \n",
    "    \n",
    "                #     choose poisition\n",
    "                position=player_choice(board,2)\n",
    "\n",
    "                #     update the position in gamelist\n",
    "\n",
    "                board=place_marker(board, p2_marker, position)\n",
    "                \n",
    "                if win_check(board,p2_marker)==True:   #check if a player has won after every chance\n",
    "                    \n",
    "                    clear_output()\n",
    "                    display_board(board)\n",
    "                    print(\"Congratulations!!Player 2 has won\")\n",
    "                    game_on=False\n",
    "                    \n",
    "                else: #if there is no winning player and the board is full\n",
    "                    if full_board_check(board)==True:\n",
    "                        print(\"Game is a draw\")\n",
    "                        break  #will break out of game_on while loop if board is full\n",
    "\n",
    "                    else:\n",
    "                        chance=1 #chance will turn over to first player\n",
    "    \n",
    "    \n",
    "    rp=replay()   #replay function to check if the player wants to play\n",
    "    if rp==False:\n",
    "        break     #will break out of the loop if the player chooses 'No' as replay will return False\n",
    "    else:\n",
    "        game_on=True #will take to the start of game_on while loop"
   ]
  }
 ],
 "metadata": {
  "kernelspec": {
   "display_name": "Python 3 (ipykernel)",
   "language": "python",
   "name": "python3"
  },
  "language_info": {
   "codemirror_mode": {
    "name": "ipython",
    "version": 3
   },
   "file_extension": ".py",
   "mimetype": "text/x-python",
   "name": "python",
   "nbconvert_exporter": "python",
   "pygments_lexer": "ipython3",
   "version": "3.9.12"
  },
  "vscode": {
   "interpreter": {
    "hash": "e7393ca84601badae3da31841c59b33120b6f48df97ed6d52cd47365b044fbd4"
   }
  }
 },
 "nbformat": 4,
 "nbformat_minor": 1
}
